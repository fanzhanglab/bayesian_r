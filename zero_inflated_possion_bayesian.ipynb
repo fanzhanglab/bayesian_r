{
 "cells": [
  {
   "cell_type": "markdown",
   "id": "f7e0e4cf-195e-4a30-80c0-29572c8c3c26",
   "metadata": {},
   "source": [
    "## Bayesian Zero-inflated Poisson regression modeling in R\n",
    "### 2022-06-14\n",
    "### Fan Zhang"
   ]
  },
  {
   "cell_type": "code",
   "execution_count": 2,
   "id": "c5cd7494-5ead-40b4-93f4-81b442bcf947",
   "metadata": {},
   "outputs": [
    {
     "data": {
      "text/html": [
       "'/Users/zhanfan/.cmdstan/cmdstan-2.29.2'"
      ],
      "text/latex": [
       "'/Users/zhanfan/.cmdstan/cmdstan-2.29.2'"
      ],
      "text/markdown": [
       "'/Users/zhanfan/.cmdstan/cmdstan-2.29.2'"
      ],
      "text/plain": [
       "[1] \"/Users/zhanfan/.cmdstan/cmdstan-2.29.2\""
      ]
     },
     "metadata": {},
     "output_type": "display_data"
    }
   ],
   "source": [
    "library(rethinking)\n",
    "library(tidyverse)\n",
    "library(magrittr)\n",
    "library(readxl)\n",
    "library(cmdstanr)\n",
    "\n",
    "# https://mc-stan.org/cmdstanr/articles/cmdstanr.html\n",
    "# * Finished installing CmdStan to /Users/zhanfan/.cmdstan/cmdstan-2.29.2\n",
    "# CmdStan path set to: /Users/zhanfan/.cmdstan/cmdstan-2.29.2\n",
    "\n",
    "cmdstan_path()"
   ]
  },
  {
   "cell_type": "code",
   "execution_count": 6,
   "id": "2fdf77fa-0bef-409e-8171-aa68f77f8c77",
   "metadata": {},
   "outputs": [],
   "source": [
    "# Download data set from Riehl et al. 2019"
   ]
  },
  {
   "cell_type": "code",
   "execution_count": 3,
   "id": "286337d8-1d86-4d94-9c75-096116fbfba2",
   "metadata": {},
   "outputs": [
    {
     "data": {
      "text/html": [
       "0.57001647446458"
      ],
      "text/latex": [
       "0.57001647446458"
      ],
      "text/markdown": [
       "0.57001647446458"
      ],
      "text/plain": [
       "[1] 0.5700165"
      ]
     },
     "metadata": {},
     "output_type": "display_data"
    },
    {
     "data": {
      "text/html": [
       "<table class=\"dataframe\">\n",
       "<caption>A tibble: 4 × 12</caption>\n",
       "<thead>\n",
       "\t<tr><th scope=col>Year</th><th scope=col>Female_ID_coded</th><th scope=col>Group_ID_coded</th><th scope=col>Parasite</th><th scope=col>Min_age</th><th scope=col>Successful</th><th scope=col>Group_size</th><th scope=col>Mean_eggsize</th><th scope=col>Eggs_laid</th><th scope=col>Eggs_incu</th><th scope=col>Eggs_hatch</th><th scope=col>Eggs_fledged</th></tr>\n",
       "\t<tr><th scope=col>&lt;dbl&gt;</th><th scope=col>&lt;dbl&gt;</th><th scope=col>&lt;chr&gt;</th><th scope=col>&lt;dbl&gt;</th><th scope=col>&lt;dbl&gt;</th><th scope=col>&lt;dbl&gt;</th><th scope=col>&lt;dbl&gt;</th><th scope=col>&lt;dbl&gt;</th><th scope=col>&lt;dbl&gt;</th><th scope=col>&lt;dbl&gt;</th><th scope=col>&lt;dbl&gt;</th><th scope=col>&lt;dbl&gt;</th></tr>\n",
       "</thead>\n",
       "<tbody>\n",
       "\t<tr><td>2007</td><td>299523783</td><td>NTE</td><td>0</td><td>3</td><td>0</td><td>4</td><td>28.00000</td><td>4</td><td>3</td><td>0</td><td>0</td></tr>\n",
       "\t<tr><td>2007</td><td>299566566</td><td>NTE</td><td>0</td><td>3</td><td>0</td><td>4</td><td>27.50000</td><td>3</td><td>3</td><td>0</td><td>0</td></tr>\n",
       "\t<tr><td>2007</td><td>299609349</td><td>STH</td><td>1</td><td>3</td><td>0</td><td>4</td><td>29.00000</td><td>7</td><td>4</td><td>0</td><td>0</td></tr>\n",
       "\t<tr><td>2007</td><td>299652132</td><td>STH</td><td>0</td><td>3</td><td>0</td><td>4</td><td>32.33333</td><td>5</td><td>5</td><td>0</td><td>0</td></tr>\n",
       "</tbody>\n",
       "</table>\n"
      ],
      "text/latex": [
       "A tibble: 4 × 12\n",
       "\\begin{tabular}{llllllllllll}\n",
       " Year & Female\\_ID\\_coded & Group\\_ID\\_coded & Parasite & Min\\_age & Successful & Group\\_size & Mean\\_eggsize & Eggs\\_laid & Eggs\\_incu & Eggs\\_hatch & Eggs\\_fledged\\\\\n",
       " <dbl> & <dbl> & <chr> & <dbl> & <dbl> & <dbl> & <dbl> & <dbl> & <dbl> & <dbl> & <dbl> & <dbl>\\\\\n",
       "\\hline\n",
       "\t 2007 & 299523783 & NTE & 0 & 3 & 0 & 4 & 28.00000 & 4 & 3 & 0 & 0\\\\\n",
       "\t 2007 & 299566566 & NTE & 0 & 3 & 0 & 4 & 27.50000 & 3 & 3 & 0 & 0\\\\\n",
       "\t 2007 & 299609349 & STH & 1 & 3 & 0 & 4 & 29.00000 & 7 & 4 & 0 & 0\\\\\n",
       "\t 2007 & 299652132 & STH & 0 & 3 & 0 & 4 & 32.33333 & 5 & 5 & 0 & 0\\\\\n",
       "\\end{tabular}\n"
      ],
      "text/markdown": [
       "\n",
       "A tibble: 4 × 12\n",
       "\n",
       "| Year &lt;dbl&gt; | Female_ID_coded &lt;dbl&gt; | Group_ID_coded &lt;chr&gt; | Parasite &lt;dbl&gt; | Min_age &lt;dbl&gt; | Successful &lt;dbl&gt; | Group_size &lt;dbl&gt; | Mean_eggsize &lt;dbl&gt; | Eggs_laid &lt;dbl&gt; | Eggs_incu &lt;dbl&gt; | Eggs_hatch &lt;dbl&gt; | Eggs_fledged &lt;dbl&gt; |\n",
       "|---|---|---|---|---|---|---|---|---|---|---|---|\n",
       "| 2007 | 299523783 | NTE | 0 | 3 | 0 | 4 | 28.00000 | 4 | 3 | 0 | 0 |\n",
       "| 2007 | 299566566 | NTE | 0 | 3 | 0 | 4 | 27.50000 | 3 | 3 | 0 | 0 |\n",
       "| 2007 | 299609349 | STH | 1 | 3 | 0 | 4 | 29.00000 | 7 | 4 | 0 | 0 |\n",
       "| 2007 | 299652132 | STH | 0 | 3 | 0 | 4 | 32.33333 | 5 | 5 | 0 | 0 |\n",
       "\n"
      ],
      "text/plain": [
       "  Year Female_ID_coded Group_ID_coded Parasite Min_age Successful Group_size\n",
       "1 2007 299523783       NTE            0        3       0          4         \n",
       "2 2007 299566566       NTE            0        3       0          4         \n",
       "3 2007 299609349       STH            1        3       0          4         \n",
       "4 2007 299652132       STH            0        3       0          4         \n",
       "  Mean_eggsize Eggs_laid Eggs_incu Eggs_hatch Eggs_fledged\n",
       "1 28.00000     4         3         0          0           \n",
       "2 27.50000     3         3         0          0           \n",
       "3 29.00000     7         4         0          0           \n",
       "4 32.33333     5         5         0          0           "
      ]
     },
     "metadata": {},
     "output_type": "display_data"
    }
   ],
   "source": [
    "# Zero-inflated Poisson regression of fledged egg counts\n",
    "# Thank you for the nice notebook: https://poissonisfish.com/2019/05/01/bayesian-models-in-r/\n",
    "fro <- read_xlsx(\"/Users/zhanfan/OneDrive - The University of Colorado Denver/Zhanglab_results/2022-06-13_Bayesian_possion_rethinking/data.xlsx\", sheet = 2)\n",
    "sum(complete.cases(fro)) / nrow(fro)\n",
    "fro[1:4,]"
   ]
  },
  {
   "cell_type": "code",
   "execution_count": 4,
   "id": "773918be-2312-495b-b649-4af59084b748",
   "metadata": {},
   "outputs": [
    {
     "data": {
      "text/html": [
       "<style>\n",
       ".list-inline {list-style: none; margin:0; padding: 0}\n",
       ".list-inline>li {display: inline-block}\n",
       ".list-inline>li:not(:last-child)::after {content: \"\\00b7\"; padding: 0 .5ex}\n",
       "</style>\n",
       "<ol class=list-inline><li>'Successful'</li><li>'Group_size'</li><li>'Mean_eggsize'</li><li>'Eggs_laid'</li><li>'Eggs_incu'</li><li>'Eggs_hatch'</li><li>'Eggs_fledged'</li></ol>\n"
      ],
      "text/latex": [
       "\\begin{enumerate*}\n",
       "\\item 'Successful'\n",
       "\\item 'Group\\_size'\n",
       "\\item 'Mean\\_eggsize'\n",
       "\\item 'Eggs\\_laid'\n",
       "\\item 'Eggs\\_incu'\n",
       "\\item 'Eggs\\_hatch'\n",
       "\\item 'Eggs\\_fledged'\n",
       "\\end{enumerate*}\n"
      ],
      "text/markdown": [
       "1. 'Successful'\n",
       "2. 'Group_size'\n",
       "3. 'Mean_eggsize'\n",
       "4. 'Eggs_laid'\n",
       "5. 'Eggs_incu'\n",
       "6. 'Eggs_hatch'\n",
       "7. 'Eggs_fledged'\n",
       "\n",
       "\n"
      ],
      "text/plain": [
       "[1] \"Successful\"   \"Group_size\"   \"Mean_eggsize\" \"Eggs_laid\"    \"Eggs_incu\"   \n",
       "[6] \"Eggs_hatch\"   \"Eggs_fledged\""
      ]
     },
     "metadata": {},
     "output_type": "display_data"
    }
   ],
   "source": [
    "names(which(apply(fro, 2, function(x){any(is.na(x))})))"
   ]
  },
  {
   "cell_type": "code",
   "execution_count": 5,
   "id": "ac828a97-ccf9-4090-b7c7-7e714c88b603",
   "metadata": {},
   "outputs": [
    {
     "data": {
      "text/html": [
       "<style>\n",
       ".list-inline {list-style: none; margin:0; padding: 0}\n",
       ".list-inline>li {display: inline-block}\n",
       ".list-inline>li:not(:last-child)::after {content: \"\\00b7\"; padding: 0 .5ex}\n",
       "</style>\n",
       "<ol class=list-inline><li>575</li><li>12</li></ol>\n"
      ],
      "text/latex": [
       "\\begin{enumerate*}\n",
       "\\item 575\n",
       "\\item 12\n",
       "\\end{enumerate*}\n"
      ],
      "text/markdown": [
       "1. 575\n",
       "2. 12\n",
       "\n",
       "\n"
      ],
      "text/plain": [
       "[1] 575  12"
      ]
     },
     "metadata": {},
     "output_type": "display_data"
    },
    {
     "data": {
      "text/html": [
       "<table class=\"dataframe\">\n",
       "<caption>A data.frame: 4 × 12</caption>\n",
       "<thead>\n",
       "\t<tr><th></th><th scope=col>Year</th><th scope=col>Female_ID_coded</th><th scope=col>Group_ID_coded</th><th scope=col>Parasite</th><th scope=col>Min_age</th><th scope=col>Successful</th><th scope=col>Group_size</th><th scope=col>Mean_eggsize</th><th scope=col>Eggs_laid</th><th scope=col>Eggs_incu</th><th scope=col>Eggs_hatch</th><th scope=col>Eggs_fledged</th></tr>\n",
       "\t<tr><th></th><th scope=col>&lt;dbl&gt;</th><th scope=col>&lt;dbl&gt;</th><th scope=col>&lt;chr&gt;</th><th scope=col>&lt;dbl&gt;</th><th scope=col>&lt;dbl&gt;</th><th scope=col>&lt;dbl&gt;</th><th scope=col>&lt;dbl&gt;</th><th scope=col>&lt;dbl&gt;</th><th scope=col>&lt;dbl&gt;</th><th scope=col>&lt;dbl&gt;</th><th scope=col>&lt;dbl&gt;</th><th scope=col>&lt;dbl&gt;</th></tr>\n",
       "</thead>\n",
       "<tbody>\n",
       "\t<tr><th scope=row>1</th><td>2007</td><td>299523783</td><td>NTE</td><td>0</td><td>3</td><td>0</td><td>4</td><td>28.00000</td><td>4</td><td>3</td><td>0</td><td>0</td></tr>\n",
       "\t<tr><th scope=row>2</th><td>2007</td><td>299566566</td><td>NTE</td><td>0</td><td>3</td><td>0</td><td>4</td><td>27.50000</td><td>3</td><td>3</td><td>0</td><td>0</td></tr>\n",
       "\t<tr><th scope=row>3</th><td>2007</td><td>299609349</td><td>STH</td><td>1</td><td>3</td><td>0</td><td>4</td><td>29.00000</td><td>7</td><td>4</td><td>0</td><td>0</td></tr>\n",
       "\t<tr><th scope=row>4</th><td>2007</td><td>299652132</td><td>STH</td><td>0</td><td>3</td><td>0</td><td>4</td><td>32.33333</td><td>5</td><td>5</td><td>0</td><td>0</td></tr>\n",
       "</tbody>\n",
       "</table>\n"
      ],
      "text/latex": [
       "A data.frame: 4 × 12\n",
       "\\begin{tabular}{r|llllllllllll}\n",
       "  & Year & Female\\_ID\\_coded & Group\\_ID\\_coded & Parasite & Min\\_age & Successful & Group\\_size & Mean\\_eggsize & Eggs\\_laid & Eggs\\_incu & Eggs\\_hatch & Eggs\\_fledged\\\\\n",
       "  & <dbl> & <dbl> & <chr> & <dbl> & <dbl> & <dbl> & <dbl> & <dbl> & <dbl> & <dbl> & <dbl> & <dbl>\\\\\n",
       "\\hline\n",
       "\t1 & 2007 & 299523783 & NTE & 0 & 3 & 0 & 4 & 28.00000 & 4 & 3 & 0 & 0\\\\\n",
       "\t2 & 2007 & 299566566 & NTE & 0 & 3 & 0 & 4 & 27.50000 & 3 & 3 & 0 & 0\\\\\n",
       "\t3 & 2007 & 299609349 & STH & 1 & 3 & 0 & 4 & 29.00000 & 7 & 4 & 0 & 0\\\\\n",
       "\t4 & 2007 & 299652132 & STH & 0 & 3 & 0 & 4 & 32.33333 & 5 & 5 & 0 & 0\\\\\n",
       "\\end{tabular}\n"
      ],
      "text/markdown": [
       "\n",
       "A data.frame: 4 × 12\n",
       "\n",
       "| <!--/--> | Year &lt;dbl&gt; | Female_ID_coded &lt;dbl&gt; | Group_ID_coded &lt;chr&gt; | Parasite &lt;dbl&gt; | Min_age &lt;dbl&gt; | Successful &lt;dbl&gt; | Group_size &lt;dbl&gt; | Mean_eggsize &lt;dbl&gt; | Eggs_laid &lt;dbl&gt; | Eggs_incu &lt;dbl&gt; | Eggs_hatch &lt;dbl&gt; | Eggs_fledged &lt;dbl&gt; |\n",
       "|---|---|---|---|---|---|---|---|---|---|---|---|---|\n",
       "| 1 | 2007 | 299523783 | NTE | 0 | 3 | 0 | 4 | 28.00000 | 4 | 3 | 0 | 0 |\n",
       "| 2 | 2007 | 299566566 | NTE | 0 | 3 | 0 | 4 | 27.50000 | 3 | 3 | 0 | 0 |\n",
       "| 3 | 2007 | 299609349 | STH | 1 | 3 | 0 | 4 | 29.00000 | 7 | 4 | 0 | 0 |\n",
       "| 4 | 2007 | 299652132 | STH | 0 | 3 | 0 | 4 | 32.33333 | 5 | 5 | 0 | 0 |\n",
       "\n"
      ],
      "text/plain": [
       "  Year Female_ID_coded Group_ID_coded Parasite Min_age Successful Group_size\n",
       "1 2007 299523783       NTE            0        3       0          4         \n",
       "2 2007 299566566       NTE            0        3       0          4         \n",
       "3 2007 299609349       STH            1        3       0          4         \n",
       "4 2007 299652132       STH            0        3       0          4         \n",
       "  Mean_eggsize Eggs_laid Eggs_incu Eggs_hatch Eggs_fledged\n",
       "1 28.00000     4         3         0          0           \n",
       "2 27.50000     3         3         0          0           \n",
       "3 29.00000     7         4         0          0           \n",
       "4 32.33333     5         5         0          0           "
      ]
     },
     "metadata": {},
     "output_type": "display_data"
    }
   ],
   "source": [
    "# Filter out missingness in fledged eggs, the model does not cope with it\n",
    "fro %<>% slice(which(!is.na(Eggs_fledged))) %>% \n",
    "      as.data.frame()\n",
    "dim(fro)\n",
    "fro[1:4,]"
   ]
  },
  {
   "cell_type": "code",
   "execution_count": 6,
   "id": "c62a886a-faa3-4a3f-b9c3-498e30439197",
   "metadata": {},
   "outputs": [
    {
     "data": {
      "text/html": [
       "<table class=\"dataframe\">\n",
       "<caption>A data.frame: 4 × 18</caption>\n",
       "<thead>\n",
       "\t<tr><th></th><th scope=col>Year</th><th scope=col>Female_ID_coded</th><th scope=col>Group_ID_coded</th><th scope=col>Parasite</th><th scope=col>Min_age</th><th scope=col>Successful</th><th scope=col>Group_size</th><th scope=col>Mean_eggsize</th><th scope=col>Eggs_laid</th><th scope=col>Eggs_incu</th><th scope=col>Eggs_hatch</th><th scope=col>Eggs_fledged</th><th scope=col>female_id</th><th scope=col>year_id</th><th scope=col>group_id</th><th scope=col>Min_age_Z</th><th scope=col>Group_size_Z</th><th scope=col>Mean_eggsize_Z</th></tr>\n",
       "\t<tr><th></th><th scope=col>&lt;dbl&gt;</th><th scope=col>&lt;dbl&gt;</th><th scope=col>&lt;chr&gt;</th><th scope=col>&lt;dbl&gt;</th><th scope=col>&lt;dbl&gt;</th><th scope=col>&lt;dbl&gt;</th><th scope=col>&lt;dbl&gt;</th><th scope=col>&lt;dbl&gt;</th><th scope=col>&lt;dbl&gt;</th><th scope=col>&lt;dbl&gt;</th><th scope=col>&lt;dbl&gt;</th><th scope=col>&lt;dbl&gt;</th><th scope=col>&lt;int&gt;</th><th scope=col>&lt;int&gt;</th><th scope=col>&lt;int&gt;</th><th scope=col>&lt;dbl[,1]&gt;</th><th scope=col>&lt;dbl[,1]&gt;</th><th scope=col>&lt;dbl[,1]&gt;</th></tr>\n",
       "</thead>\n",
       "<tbody>\n",
       "\t<tr><th scope=row>1</th><td>2007</td><td>299523783</td><td>NTE</td><td>0</td><td>3</td><td>0</td><td>4</td><td>28.00000</td><td>4</td><td>3</td><td>0</td><td>0</td><td>1</td><td>1</td><td>52</td><td>-0.8912904</td><td>-0.5944768</td><td>-0.7984905</td></tr>\n",
       "\t<tr><th scope=row>2</th><td>2007</td><td>299566566</td><td>NTE</td><td>0</td><td>3</td><td>0</td><td>4</td><td>27.50000</td><td>3</td><td>3</td><td>0</td><td>0</td><td>2</td><td>1</td><td>52</td><td>-0.8912904</td><td>-0.5944768</td><td>-1.0070792</td></tr>\n",
       "\t<tr><th scope=row>3</th><td>2007</td><td>299609349</td><td>STH</td><td>1</td><td>3</td><td>0</td><td>4</td><td>29.00000</td><td>7</td><td>4</td><td>0</td><td>0</td><td>3</td><td>1</td><td>79</td><td>-0.8912904</td><td>-0.5944768</td><td>-0.3813133</td></tr>\n",
       "\t<tr><th scope=row>4</th><td>2007</td><td>299652132</td><td>STH</td><td>0</td><td>3</td><td>0</td><td>4</td><td>32.33333</td><td>5</td><td>5</td><td>0</td><td>0</td><td>4</td><td>1</td><td>79</td><td>-0.8912904</td><td>-0.5944768</td><td> 1.0092776</td></tr>\n",
       "</tbody>\n",
       "</table>\n"
      ],
      "text/latex": [
       "A data.frame: 4 × 18\n",
       "\\begin{tabular}{r|llllllllllllllllll}\n",
       "  & Year & Female\\_ID\\_coded & Group\\_ID\\_coded & Parasite & Min\\_age & Successful & Group\\_size & Mean\\_eggsize & Eggs\\_laid & Eggs\\_incu & Eggs\\_hatch & Eggs\\_fledged & female\\_id & year\\_id & group\\_id & Min\\_age\\_Z & Group\\_size\\_Z & Mean\\_eggsize\\_Z\\\\\n",
       "  & <dbl> & <dbl> & <chr> & <dbl> & <dbl> & <dbl> & <dbl> & <dbl> & <dbl> & <dbl> & <dbl> & <dbl> & <int> & <int> & <int> & <dbl{[},1{]}> & <dbl{[},1{]}> & <dbl{[},1{]}>\\\\\n",
       "\\hline\n",
       "\t1 & 2007 & 299523783 & NTE & 0 & 3 & 0 & 4 & 28.00000 & 4 & 3 & 0 & 0 & 1 & 1 & 52 & -0.8912904 & -0.5944768 & -0.7984905\\\\\n",
       "\t2 & 2007 & 299566566 & NTE & 0 & 3 & 0 & 4 & 27.50000 & 3 & 3 & 0 & 0 & 2 & 1 & 52 & -0.8912904 & -0.5944768 & -1.0070792\\\\\n",
       "\t3 & 2007 & 299609349 & STH & 1 & 3 & 0 & 4 & 29.00000 & 7 & 4 & 0 & 0 & 3 & 1 & 79 & -0.8912904 & -0.5944768 & -0.3813133\\\\\n",
       "\t4 & 2007 & 299652132 & STH & 0 & 3 & 0 & 4 & 32.33333 & 5 & 5 & 0 & 0 & 4 & 1 & 79 & -0.8912904 & -0.5944768 &  1.0092776\\\\\n",
       "\\end{tabular}\n"
      ],
      "text/markdown": [
       "\n",
       "A data.frame: 4 × 18\n",
       "\n",
       "| <!--/--> | Year &lt;dbl&gt; | Female_ID_coded &lt;dbl&gt; | Group_ID_coded &lt;chr&gt; | Parasite &lt;dbl&gt; | Min_age &lt;dbl&gt; | Successful &lt;dbl&gt; | Group_size &lt;dbl&gt; | Mean_eggsize &lt;dbl&gt; | Eggs_laid &lt;dbl&gt; | Eggs_incu &lt;dbl&gt; | Eggs_hatch &lt;dbl&gt; | Eggs_fledged &lt;dbl&gt; | female_id &lt;int&gt; | year_id &lt;int&gt; | group_id &lt;int&gt; | Min_age_Z &lt;dbl[,1]&gt; | Group_size_Z &lt;dbl[,1]&gt; | Mean_eggsize_Z &lt;dbl[,1]&gt; |\n",
       "|---|---|---|---|---|---|---|---|---|---|---|---|---|---|---|---|---|---|---|\n",
       "| 1 | 2007 | 299523783 | NTE | 0 | 3 | 0 | 4 | 28.00000 | 4 | 3 | 0 | 0 | 1 | 1 | 52 | -0.8912904 | -0.5944768 | -0.7984905 |\n",
       "| 2 | 2007 | 299566566 | NTE | 0 | 3 | 0 | 4 | 27.50000 | 3 | 3 | 0 | 0 | 2 | 1 | 52 | -0.8912904 | -0.5944768 | -1.0070792 |\n",
       "| 3 | 2007 | 299609349 | STH | 1 | 3 | 0 | 4 | 29.00000 | 7 | 4 | 0 | 0 | 3 | 1 | 79 | -0.8912904 | -0.5944768 | -0.3813133 |\n",
       "| 4 | 2007 | 299652132 | STH | 0 | 3 | 0 | 4 | 32.33333 | 5 | 5 | 0 | 0 | 4 | 1 | 79 | -0.8912904 | -0.5944768 |  1.0092776 |\n",
       "\n"
      ],
      "text/plain": [
       "  Year Female_ID_coded Group_ID_coded Parasite Min_age Successful Group_size\n",
       "1 2007 299523783       NTE            0        3       0          4         \n",
       "2 2007 299566566       NTE            0        3       0          4         \n",
       "3 2007 299609349       STH            1        3       0          4         \n",
       "4 2007 299652132       STH            0        3       0          4         \n",
       "  Mean_eggsize Eggs_laid Eggs_incu Eggs_hatch Eggs_fledged female_id year_id\n",
       "1 28.00000     4         3         0          0            1         1      \n",
       "2 27.50000     3         3         0          0            2         1      \n",
       "3 29.00000     7         4         0          0            3         1      \n",
       "4 32.33333     5         5         0          0            4         1      \n",
       "  group_id Min_age_Z  Group_size_Z Mean_eggsize_Z\n",
       "1 52       -0.8912904 -0.5944768   -0.7984905    \n",
       "2 52       -0.8912904 -0.5944768   -1.0070792    \n",
       "3 79       -0.8912904 -0.5944768   -0.3813133    \n",
       "4 79       -0.8912904 -0.5944768    1.0092776    "
      ]
     },
     "metadata": {},
     "output_type": "display_data"
    }
   ],
   "source": [
    "# add the standardised versions of Min_age, Group_size and Mean_eggsize to the dataset.\n",
    "fro %<>% mutate(female_id = as.integer(factor(Female_ID_coded)),\n",
    "                year_id = as.integer(factor(Year)),\n",
    "                group_id = as.integer(factor(Group_ID_coded)),\n",
    "                Min_age_Z = scale(Min_age),\n",
    "                Group_size_Z = scale(Group_size),\n",
    "                Mean_eggsize_Z = scale(Mean_eggsize))\n",
    "\n",
    "fro[1:4,]"
   ]
  },
  {
   "cell_type": "code",
   "execution_count": 7,
   "id": "97f60de7-fc0e-4c86-a603-1c90642c2fab",
   "metadata": {},
   "outputs": [],
   "source": [
    "fro <- fro[, c(\"Eggs_fledged\", \"female_id\", \"year_id\", \"group_id\", \"Parasite\", \"Min_age_Z\", \"Group_size_Z\", \"Mean_eggsize_Z\")]"
   ]
  },
  {
   "cell_type": "code",
   "execution_count": 8,
   "id": "864eeb45-8aa9-40e9-b9f4-62da8e79d52c",
   "metadata": {},
   "outputs": [
    {
     "name": "stderr",
     "output_type": "stream",
     "text": [
      "Warning message in map2stan(alist(Eggs_fledged ~ dzipois(p, lambda), logit(p) <- ap, :\n",
      "“Stripping scale attributes from variable Min_age_Z”\n",
      "Warning message in map2stan(alist(Eggs_fledged ~ dzipois(p, lambda), logit(p) <- ap, :\n",
      "“Stripping scale attributes from variable Group_size_Z”\n",
      "Warning message in map2stan(alist(Eggs_fledged ~ dzipois(p, lambda), logit(p) <- ap, :\n",
      "“Stripping scale attributes from variable Mean_eggsize_Z”\n",
      "Imputing 23 missing values (NA) in variable 'Group_size_Z'.\n",
      "\n",
      "Imputing 215 missing values (NA) in variable 'Mean_eggsize_Z'.\n",
      "\n",
      "Warning in '/var/folders/dk/5nxbmwrn761gz48jk4ydfxh00000gq/T/RtmpfNw7lB/model-5d64584bb46.stan', line 11, column 4: Declaration\n",
      "    of arrays by placing brackets after a variable name is deprecated and\n",
      "    will be removed in Stan 2.32.0. Instead use the array keyword before the\n",
      "    type. This can be changed automatically using the auto-format flag to\n",
      "    stanc\n",
      "Warning in '/var/folders/dk/5nxbmwrn761gz48jk4ydfxh00000gq/T/RtmpfNw7lB/model-5d64584bb46.stan', line 12, column 4: Declaration\n",
      "    of arrays by placing brackets after a variable name is deprecated and\n",
      "    will be removed in Stan 2.32.0. Instead use the array keyword before the\n",
      "    type. This can be changed automatically using the auto-format flag to\n",
      "    stanc\n",
      "Warning in '/var/folders/dk/5nxbmwrn761gz48jk4ydfxh00000gq/T/RtmpfNw7lB/model-5d64584bb46.stan', line 13, column 4: Declaration\n",
      "    of arrays by placing brackets after a variable name is deprecated and\n",
      "    will be removed in Stan 2.32.0. Instead use the array keyword before the\n",
      "    type. This can be changed automatically using the auto-format flag to\n",
      "    stanc\n",
      "Warning in '/var/folders/dk/5nxbmwrn761gz48jk4ydfxh00000gq/T/RtmpfNw7lB/model-5d64584bb46.stan', line 14, column 4: Declaration\n",
      "    of arrays by placing brackets after a variable name is deprecated and\n",
      "    will be removed in Stan 2.32.0. Instead use the array keyword before the\n",
      "    type. This can be changed automatically using the auto-format flag to\n",
      "    stanc\n",
      "Warning in '/var/folders/dk/5nxbmwrn761gz48jk4ydfxh00000gq/T/RtmpfNw7lB/model-5d64584bb46.stan', line 15, column 4: Declaration\n",
      "    of arrays by placing brackets after a variable name is deprecated and\n",
      "    will be removed in Stan 2.32.0. Instead use the array keyword before the\n",
      "    type. This can be changed automatically using the auto-format flag to\n",
      "    stanc\n",
      "Warning in '/var/folders/dk/5nxbmwrn761gz48jk4ydfxh00000gq/T/RtmpfNw7lB/model-5d64584bb46.stan', line 16, column 4: Declaration\n",
      "    of arrays by placing brackets after a variable name i\n",
      "\n",
      "s deprecated and\n",
      "    will be removed in Stan 2.32.0. Instead use the array keyword before the\n",
      "    type. This can be changed automatically using the auto-format flag to\n",
      "    stanc\n",
      "Warning in '/var/folders/dk/5nxbmwrn761gz48jk4ydfxh00000gq/T/RtmpfNw7lB/model-5d64584bb46.stan', line 17, column 4: Declaration\n",
      "    of arrays by placing brackets after a variable name is deprecated and\n",
      "    will be removed in Stan 2.32.0. Instead use the array keyword before the\n",
      "    type. This can be changed automatically using the auto-format flag to\n",
      "    stanc\n",
      "Warning in '/var/folders/dk/5nxbmwrn761gz48jk4ydfxh00000gq/T/RtmpfNw7lB/model-5d64584bb46.stan', line 18, column 4: Declaration\n",
      "    of arrays by placing brackets after a variable name is deprecated and\n",
      "    will be removed in Stan 2.32.0. Instead use the array keyword before the\n",
      "    type. This can be changed automatically using the auto-format flag to\n",
      "    stanc\n",
      "Warning in '/var/folders/dk/5nxbmwrn761gz48jk4ydfxh00000gq/T/RtmpfNw7lB/model-5d64584bb46.stan', line 19, column 4: Declaration\n",
      "    of arrays by placing brackets after a variable name is deprecated and\n",
      "    will be removed in Stan 2.32.0. Instead use the array keyword before the\n",
      "    type. This can be changed automatically using the auto-format flag to\n",
      "    stanc\n",
      "Warning in '/var/folders/dk/5nxbmwrn761gz48jk4ydfxh00000gq/T/RtmpfNw7lB/model-5d64584bb46.stan', line 20, column 4: Declaration\n",
      "    of arrays by placing brackets after a variable name is deprecated and\n",
      "    will be removed in Stan 2.32.0. Instead use the array keyword before the\n",
      "    type. This can be changed automatically using the auto-format flag to\n",
      "    stanc\n",
      "Warning in '/var/folders/dk/5nxbmwrn761gz48jk4ydfxh00000gq/T/RtmpfNw7lB/model-5d64584bb46.stan', line 40, column 4: Declaration\n",
      "    of arrays by placing brackets after a variable name is deprecated and\n",
      "    will be removed in Stan 2.32.0. Instead use the array keyword before the\n",
      "    type. This can be changed automatically using the auto-format flag to\n",
      "    stanc\n",
      "Warning\n",
      "\n",
      " in '/var/folders/dk/5nxbmwrn761gz48jk4ydfxh00000gq/T/RtmpfNw7lB/model-5d64584bb46.stan', line 41, column 4: Declaration\n",
      "    of arrays by placing brackets after a variable name is deprecated and\n",
      "    will be removed in Stan 2.32.0. Instead use the array keyword before the\n",
      "    type. This can be changed automatically using the auto-format flag to\n",
      "    stanc\n",
      "\n",
      "\n"
     ]
    },
    {
     "name": "stdout",
     "output_type": "stream",
     "text": [
      "Running MCMC with 4 parallel chains...\n",
      "\n",
      "Chain 1 Iteration:    1 / 5000 [  0%]  (Warmup) \n"
     ]
    },
    {
     "name": "stderr",
     "output_type": "stream",
     "text": [
      "Chain 1 Informational Message: The current Metropolis proposal is about to be rejected because of the following issue:\n",
      "\n",
      "Chain 1 Exception: normal_lpdf: Scale parameter is 0, but must be positive! (in '/var/folders/dk/5nxbmwrn761gz48jk4ydfxh00000gq/T/RtmpfNw7lB/model-5d64584bb46.stan', line 62, column 4 to column 33)\n",
      "\n",
      "Chain 1 If this warning occurs sporadically, such as for highly constrained variable types like covariance matrices, then the sampler is fine,\n",
      "\n",
      "Chain 1 but if this warning occurs often then your model may be either severely ill-conditioned or misspecified.\n",
      "\n",
      "Chain 1 \n",
      "\n"
     ]
    },
    {
     "name": "stdout",
     "output_type": "stream",
     "text": [
      "Chain 2 Iteration:    1 / 5000 [  0%]  (Warmup) \n"
     ]
    },
    {
     "name": "stderr",
     "output_type": "stream",
     "text": [
      "Chain 2 Informational Message: The current Metropolis proposal is about to be rejected because of the following issue:\n",
      "\n",
      "Chain 2 Exception: normal_lpdf: Scale parameter is 0, but must be positive! (in '/var/folders/dk/5nxbmwrn761gz48jk4ydfxh00000gq/T/RtmpfNw7lB/model-5d64584bb46.stan', line 60, column 4 to column 35)\n",
      "\n",
      "Chain 2 If this warning occurs sporadically, such as for highly constrained variable types like covariance matrices, then the sampler is fine,\n",
      "\n",
      "Chain 2 but if this warning occurs often then your model may be either severely ill-conditioned or misspecified.\n",
      "\n",
      "Chain 2 \n",
      "\n"
     ]
    },
    {
     "name": "stdout",
     "output_type": "stream",
     "text": [
      "Chain 3 Iteration:    1 / 5000 [  0%]  (Warmup) \n",
      "Chain 4 Iteration:    1 / 5000 [  0%]  (Warmup) \n"
     ]
    },
    {
     "name": "stderr",
     "output_type": "stream",
     "text": [
      "Chain 4 Informational Message: The current Metropolis proposal is about to be rejected because of the following issue:\n",
      "\n",
      "Chain 4 Exception: normal_lpdf: Scale parameter is 0, but must be positive! (in '/var/folders/dk/5nxbmwrn761gz48jk4ydfxh00000gq/T/RtmpfNw7lB/model-5d64584bb46.stan', line 60, column 4 to column 35)\n",
      "\n",
      "Chain 4 If this warning occurs sporadically, such as for highly constrained variable types like covariance matrices, then the sampler is fine,\n",
      "\n",
      "Chain 4 but if this warning occurs often then your model may be either severely ill-conditioned or misspecified.\n",
      "\n",
      "Chain 4 \n",
      "\n"
     ]
    },
    {
     "name": "stdout",
     "output_type": "stream",
     "text": [
      "Chain 1 Iteration:  100 / 5000 [  2%]  (Warmup) \n",
      "Chain 3 Iteration:  100 / 5000 [  2%]  (Warmup) \n",
      "Chain 4 Iteration:  100 / 5000 [  2%]  (Warmup) \n",
      "Chain 2 Iteration:  100 / 5000 [  2%]  (Warmup) \n",
      "Chain 2 Iteration:  200 / 5000 [  4%]  (Warmup) \n",
      "Chain 3 Iteration:  200 / 5000 [  4%]  (Warmup) \n",
      "Chain 1 Iteration:  200 / 5000 [  4%]  (Warmup) \n",
      "Chain 4 Iteration:  200 / 5000 [  4%]  (Warmup) \n",
      "Chain 2 Iteration:  300 / 5000 [  6%]  (Warmup) \n",
      "Chain 3 Iteration:  300 / 5000 [  6%]  (Warmup) \n",
      "Chain 1 Iteration:  300 / 5000 [  6%]  (Warmup) \n",
      "Chain 2 Iteration:  400 / 5000 [  8%]  (Warmup) \n",
      "Chain 3 Iteration:  400 / 5000 [  8%]  (Warmup) \n",
      "Chain 4 Iteration:  300 / 5000 [  6%]  (Warmup) \n",
      "Chain 1 Iteration:  400 / 5000 [  8%]  (Warmup) \n",
      "Chain 3 Iteration:  500 / 5000 [ 10%]  (Warmup) \n",
      "Chain 2 Iteration:  500 / 5000 [ 10%]  (Warmup) \n",
      "Chain 4 Iteration:  400 / 5000 [  8%]  (Warmup) \n",
      "Chain 3 Iteration:  600 / 5000 [ 12%]  (Warmup) \n",
      "Chain 2 Iteration:  600 / 5000 [ 12%]  (Warmup) \n",
      "Chain 1 Iteration:  500 / 5000 [ 10%]  (Warmup) \n",
      "Chain 3 Iteration:  700 / 5000 [ 14%]  (Warmup) \n",
      "Chain 2 Iteration:  700 / 5000 [ 14%]  (Warmup) \n",
      "Chain 1 Iteration:  600 / 5000 [ 12%]  (Warmup) \n",
      "Chain 4 Iteration:  500 / 5000 [ 10%]  (Warmup) \n",
      "Chain 1 Iteration:  700 / 5000 [ 14%]  (Warmup) \n",
      "Chain 2 Iteration:  800 / 5000 [ 16%]  (Warmup) \n",
      "Chain 4 Iteration:  600 / 5000 [ 12%]  (Warmup) \n",
      "Chain 3 Iteration:  800 / 5000 [ 16%]  (Warmup) \n",
      "Chain 1 Iteration:  800 / 5000 [ 16%]  (Warmup) \n",
      "Chain 2 Iteration:  900 / 5000 [ 18%]  (Warmup) \n",
      "Chain 4 Iteration:  700 / 5000 [ 14%]  (Warmup) \n",
      "Chain 2 Iteration: 1000 / 5000 [ 20%]  (Warmup) \n",
      "Chain 2 Iteration: 1001 / 5000 [ 20%]  (Sampling) \n",
      "Chain 3 Iteration:  900 / 5000 [ 18%]  (Warmup) \n",
      "Chain 1 Iteration:  900 / 5000 [ 18%]  (Warmup) \n",
      "Chain 4 Iteration:  800 / 5000 [ 16%]  (Warmup) \n",
      "Chain 2 Iteration: 1100 / 5000 [ 22%]  (Sampling) \n",
      "Chain 1 Iteration: 1000 / 5000 [ 20%]  (Warmup) \n",
      "Chain 1 Iteration: 1001 / 5000 [ 20%]  (Sampling) \n",
      "Chain 2 Iteration: 1200 / 5000 [ 24%]  (Sampling) \n",
      "Chain 3 Iteration: 1000 / 5000 [ 20%]  (Warmup) \n",
      "Chain 1 Iteration: 1100 / 5000 [ 22%]  (Sampling) \n",
      "Chain 3 Iteration: 1001 / 5000 [ 20%]  (Sampling) \n",
      "Chain 2 Iteration: 1300 / 5000 [ 26%]  (Sampling) \n",
      "Chain 1 Iteration: 1200 / 5000 [ 24%]  (Sampling) \n",
      "Chain 3 Iteration: 1100 / 5000 [ 22%]  (Sampling) \n",
      "Chain 2 Iteration: 1400 / 5000 [ 28%]  (Sampling) \n",
      "Chain 1 Iteration: 1300 / 5000 [ 26%]  (Sampling) \n",
      "Chain 3 Iteration: 1200 / 5000 [ 24%]  (Sampling) \n",
      "Chain 2 Iteration: 1500 / 5000 [ 30%]  (Sampling) \n",
      "Chain 1 Iteration: 1400 / 5000 [ 28%]  (Sampling) \n",
      "Chain 3 Iteration: 1300 / 5000 [ 26%]  (Sampling) \n",
      "Chain 2 Iteration: 1600 / 5000 [ 32%]  (Sampling) \n",
      "Chain 1 Iteration: 1500 / 5000 [ 30%]  (Sampling) \n",
      "Chain 2 Iteration: 1700 / 5000 [ 34%]  (Sampling) \n",
      "Chain 1 Iteration: 1600 / 5000 [ 32%]  (Sampling) \n",
      "Chain 2 Iteration: 1800 / 5000 [ 36%]  (Sampling) \n",
      "Chain 1 Iteration: 1700 / 5000 [ 34%]  (Sampling) \n",
      "Chain 2 Iteration: 1900 / 5000 [ 38%]  (Sampling) \n",
      "Chain 1 Iteration: 1800 / 5000 [ 36%]  (Sampling) \n",
      "Chain 2 Iteration: 2000 / 5000 [ 40%]  (Sampling) \n",
      "Chain 3 Iteration: 1400 / 5000 [ 28%]  (Sampling) \n",
      "Chain 1 Iteration: 1900 / 5000 [ 38%]  (Sampling) \n",
      "Chain 2 Iteration: 2100 / 5000 [ 42%]  (Sampling) \n",
      "Chain 1 Iteration: 2000 / 5000 [ 40%]  (Sampling) \n",
      "Chain 2 Iteration: 2200 / 5000 [ 44%]  (Sampling) \n",
      "Chain 3 Iteration: 1500 / 5000 [ 30%]  (Sampling) \n",
      "Chain 1 Iteration: 2100 / 5000 [ 42%]  (Sampling) \n",
      "Chain 2 Iteration: 2300 / 5000 [ 46%]  (Sampling) \n",
      "Chain 1 Iteration: 2200 / 5000 [ 44%]  (Sampling) \n",
      "Chain 3 Iteration: 1600 / 5000 [ 32%]  (Sampling) \n",
      "Chain 2 Iteration: 2400 / 5000 [ 48%]  (Sampling) \n",
      "Chain 4 Iteration:  900 / 5000 [ 18%]  (Warmup) \n",
      "Chain 2 Iteration: 2500 / 5000 [ 50%]  (Sampling) \n",
      "Chain 3 Iteration: 1700 / 5000 [ 34%]  (Sampling) \n",
      "Chain 1 Iteration: 2300 / 5000 [ 46%]  (Sampling) \n",
      "Chain 2 Iteration: 2600 / 5000 [ 52%]  (Sampling) \n",
      "Chain 3 Iteration: 1800 / 5000 [ 36%]  (Sampling) \n",
      "Chain 1 Iteration: 2400 / 5000 [ 48%]  (Sampling) \n",
      "Chain 2 Iteration: 2700 / 5000 [ 54%]  (Sampling) \n",
      "Chain 3 Iteration: 1900 / 5000 [ 38%]  (Sampling) \n",
      "Chain 1 Iteration: 2500 / 5000 [ 50%]  (Sampling) \n",
      "Chain 2 Iteration: 2800 / 5000 [ 56%]  (Sampling) \n",
      "Chain 3 Iteration: 2000 / 5000 [ 40%]  (Sampling) \n",
      "Chain 1 Iteration: 2600 / 5000 [ 52%]  (Sampling) \n",
      "Chain 4 Iteration: 1000 / 5000 [ 20%]  (Warmup) \n",
      "Chain 4 Iteration: 1001 / 5000 [ 20%]  (Sampling) \n",
      "Chain 2 Iteration: 2900 / 5000 [ 58%]  (Sampling) \n",
      "Chain 3 Iteration: 2100 / 5000 [ 42%]  (Sampling) \n",
      "Chain 1 Iteration: 2700 / 5000 [ 54%]  (Sampling) \n",
      "Chain 2 Iteration: 3000 / 5000 [ 60%]  (Sampling) \n",
      "Chain 4 Iteration: 1100 / 5000 [ 22%]  (Sampling) \n",
      "Chain 3 Iteration: 2200 / 5000 [ 44%]  (Sampling) \n",
      "Chain 1 Iteration: 2800 / 5000 [ 56%]  (Sampling) \n",
      "Chain 2 Iteration: 3100 / 5000 [ 62%]  (Sampling) \n",
      "Chain 3 Iteration: 2300 / 5000 [ 46%]  (Sampling) \n",
      "Chain 1 Iteration: 2900 / 5000 [ 58%]  (Sampling) \n",
      "Chain 2 Iteration: 3200 / 5000 [ 64%]  (Sampling) \n",
      "Chain 3 Iteration: 2400 / 5000 [ 48%]  (Sampling) \n",
      "Chain 1 Iteration: 3000 / 5000 [ 60%]  (Sampling) \n",
      "Chain 2 Iteration: 3300 / 5000 [ 66%]  (Sampling) \n",
      "Chain 3 Iteration: 2500 / 5000 [ 50%]  (Sampling) \n",
      "Chain 1 Iteration: 3100 / 5000 [ 62%]  (Sampling) \n",
      "Chain 2 Iteration: 3400 / 5000 [ 68%]  (Sampling) \n",
      "Chain 4 Iteration: 1200 / 5000 [ 24%]  (Sampling) \n",
      "Chain 2 Iteration: 3500 / 5000 [ 70%]  (Sampling) \n",
      "Chain 3 Iteration: 2600 / 5000 [ 52%]  (Sampling) \n",
      "Chain 1 Iteration: 3200 / 5000 [ 64%]  (Sampling) \n",
      "Chain 2 Iteration: 3600 / 5000 [ 72%]  (Sampling) \n",
      "Chain 1 Iteration: 3300 / 5000 [ 66%]  (Sampling) \n",
      "Chain 3 Iteration: 2700 / 5000 [ 54%]  (Sampling) \n",
      "Chain 2 Iteration: 3700 / 5000 [ 74%]  (Sampling) \n",
      "Chain 1 Iteration: 3400 / 5000 [ 68%]  (Sampling) \n",
      "Chain 2 Iteration: 3800 / 5000 [ 76%]  (Sampling) \n",
      "Chain 3 Iteration: 2800 / 5000 [ 56%]  (Sampling) \n",
      "Chain 2 Iteration: 3900 / 5000 [ 78%]  (Sampling) \n",
      "Chain 1 Iteration: 3500 / 5000 [ 70%]  (Sampling) \n",
      "Chain 3 Iteration: 2900 / 5000 [ 58%]  (Sampling) \n",
      "Chain 4 Iteration: 1300 / 5000 [ 26%]  (Sampling) \n",
      "Chain 2 Iteration: 4000 / 5000 [ 80%]  (Sampling) \n",
      "Chain 1 Iteration: 3600 / 5000 [ 72%]  (Sampling) \n",
      "Chain 3 Iteration: 3000 / 5000 [ 60%]  (Sampling) \n",
      "Chain 2 Iteration: 4100 / 5000 [ 82%]  (Sampling) \n",
      "Chain 1 Iteration: 3700 / 5000 [ 74%]  (Sampling) \n",
      "Chain 3 Iteration: 3100 / 5000 [ 62%]  (Sampling) \n",
      "Chain 2 Iteration: 4200 / 5000 [ 84%]  (Sampling) \n",
      "Chain 1 Iteration: 3800 / 5000 [ 76%]  (Sampling) \n",
      "Chain 3 Iteration: 3200 / 5000 [ 64%]  (Sampling) \n",
      "Chain 2 Iteration: 4300 / 5000 [ 86%]  (Sampling) \n",
      "Chain 1 Iteration: 3900 / 5000 [ 78%]  (Sampling) \n",
      "Chain 3 Iteration: 3300 / 5000 [ 66%]  (Sampling) \n",
      "Chain 2 Iteration: 4400 / 5000 [ 88%]  (Sampling) \n",
      "Chain 1 Iteration: 4000 / 5000 [ 80%]  (Sampling) \n",
      "Chain 3 Iteration: 3400 / 5000 [ 68%]  (Sampling) \n",
      "Chain 2 Iteration: 4500 / 5000 [ 90%]  (Sampling) \n",
      "Chain 4 Iteration: 1400 / 5000 [ 28%]  (Sampling) \n",
      "Chain 1 Iteration: 4100 / 5000 [ 82%]  (Sampling) \n",
      "Chain 2 Iteration: 4600 / 5000 [ 92%]  (Sampling) \n",
      "Chain 3 Iteration: 3500 / 5000 [ 70%]  (Sampling) \n",
      "Chain 1 Iteration: 4200 / 5000 [ 84%]  (Sampling) \n",
      "Chain 2 Iteration: 4700 / 5000 [ 94%]  (Sampling) \n",
      "Chain 3 Iteration: 3600 / 5000 [ 72%]  (Sampling) \n",
      "Chain 1 Iteration: 4300 / 5000 [ 86%]  (Sampling) \n",
      "Chain 2 Iteration: 4800 / 5000 [ 96%]  (Sampling) \n",
      "Chain 3 Iteration: 3700 / 5000 [ 74%]  (Sampling) \n",
      "Chain 4 Iteration: 1500 / 5000 [ 30%]  (Sampling) \n",
      "Chain 1 Iteration: 4400 / 5000 [ 88%]  (Sampling) \n",
      "Chain 2 Iteration: 4900 / 5000 [ 98%]  (Sampling) \n",
      "Chain 3 Iteration: 3800 / 5000 [ 76%]  (Sampling) \n",
      "Chain 1 Iteration: 4500 / 5000 [ 90%]  (Sampling) \n",
      "Chain 2 Iteration: 5000 / 5000 [100%]  (Sampling) \n",
      "Chain 2 finished in 56.2 seconds.\n",
      "Chain 3 Iteration: 3900 / 5000 [ 78%]  (Sampling) \n",
      "Chain 1 Iteration: 4600 / 5000 [ 92%]  (Sampling) \n",
      "Chain 4 Iteration: 1600 / 5000 [ 32%]  (Sampling) \n",
      "Chain 3 Iteration: 4000 / 5000 [ 80%]  (Sampling) \n",
      "Chain 1 Iteration: 4700 / 5000 [ 94%]  (Sampling) \n",
      "Chain 3 Iteration: 4100 / 5000 [ 82%]  (Sampling) \n",
      "Chain 3 Iteration: 4200 / 5000 [ 84%]  (Sampling) \n",
      "Chain 1 Iteration: 4800 / 5000 [ 96%]  (Sampling) \n",
      "Chain 3 Iteration: 4300 / 5000 [ 86%]  (Sampling) \n",
      "Chain 1 Iteration: 4900 / 5000 [ 98%]  (Sampling) \n",
      "Chain 4 Iteration: 1700 / 5000 [ 34%]  (Sampling) \n",
      "Chain 3 Iteration: 4400 / 5000 [ 88%]  (Sampling) \n",
      "Chain 1 Iteration: 5000 / 5000 [100%]  (Sampling) \n",
      "Chain 1 finished in 62.1 seconds.\n",
      "Chain 3 Iteration: 4500 / 5000 [ 90%]  (Sampling) \n",
      "Chain 3 Iteration: 4600 / 5000 [ 92%]  (Sampling) \n",
      "Chain 3 Iteration: 4700 / 5000 [ 94%]  (Sampling) \n",
      "Chain 4 Iteration: 1800 / 5000 [ 36%]  (Sampling) \n",
      "Chain 3 Iteration: 4800 / 5000 [ 96%]  (Sampling) \n",
      "Chain 3 Iteration: 4900 / 5000 [ 98%]  (Sampling) \n",
      "Chain 4 Iteration: 1900 / 5000 [ 38%]  (Sampling) \n",
      "Chain 3 Iteration: 5000 / 5000 [100%]  (Sampling) \n",
      "Chain 3 finished in 68.2 seconds.\n",
      "Chain 4 Iteration: 2000 / 5000 [ 40%]  (Sampling) \n",
      "Chain 4 Iteration: 2100 / 5000 [ 42%]  (Sampling) \n",
      "Chain 4 Iteration: 2200 / 5000 [ 44%]  (Sampling) \n",
      "Chain 4 Iteration: 2300 / 5000 [ 46%]  (Sampling) \n",
      "Chain 4 Iteration: 2400 / 5000 [ 48%]  (Sampling) \n",
      "Chain 4 Iteration: 2500 / 5000 [ 50%]  (Sampling) \n",
      "Chain 4 Iteration: 2600 / 5000 [ 52%]  (Sampling) \n",
      "Chain 4 Iteration: 2700 / 5000 [ 54%]  (Sampling) \n",
      "Chain 4 Iteration: 2800 / 5000 [ 56%]  (Sampling) \n",
      "Chain 4 Iteration: 2900 / 5000 [ 58%]  (Sampling) \n",
      "Chain 4 Iteration: 3000 / 5000 [ 60%]  (Sampling) \n",
      "Chain 4 Iteration: 3100 / 5000 [ 62%]  (Sampling) \n",
      "Chain 4 Iteration: 3200 / 5000 [ 64%]  (Sampling) \n",
      "Chain 4 Iteration: 3300 / 5000 [ 66%]  (Sampling) \n",
      "Chain 4 Iteration: 3400 / 5000 [ 68%]  (Sampling) \n",
      "Chain 4 Iteration: 3500 / 5000 [ 70%]  (Sampling) \n",
      "Chain 4 Iteration: 3600 / 5000 [ 72%]  (Sampling) \n",
      "Chain 4 Iteration: 3700 / 5000 [ 74%]  (Sampling) \n",
      "Chain 4 Iteration: 3800 / 5000 [ 76%]  (Sampling) \n",
      "Chain 4 Iteration: 3900 / 5000 [ 78%]  (Sampling) \n",
      "Chain 4 Iteration: 4000 / 5000 [ 80%]  (Sampling) \n",
      "Chain 4 Iteration: 4100 / 5000 [ 82%]  (Sampling) \n",
      "Chain 4 Iteration: 4200 / 5000 [ 84%]  (Sampling) \n",
      "Chain 4 Iteration: 4300 / 5000 [ 86%]  (Sampling) \n",
      "Chain 4 Iteration: 4400 / 5000 [ 88%]  (Sampling) \n",
      "Chain 4 Iteration: 4500 / 5000 [ 90%]  (Sampling) \n",
      "Chain 4 Iteration: 4600 / 5000 [ 92%]  (Sampling) \n",
      "Chain 4 Iteration: 4700 / 5000 [ 94%]  (Sampling) \n",
      "Chain 4 Iteration: 4800 / 5000 [ 96%]  (Sampling) \n",
      "Chain 4 Iteration: 4900 / 5000 [ 98%]  (Sampling) \n",
      "Chain 4 Iteration: 5000 / 5000 [100%]  (Sampling) \n",
      "Chain 4 finished in 194.1 seconds.\n",
      "\n",
      "All 4 chains finished successfully.\n",
      "Mean chain execution time: 95.2 seconds.\n",
      "Total execution time: 194.4 seconds.\n",
      "\n"
     ]
    },
    {
     "name": "stderr",
     "output_type": "stream",
     "text": [
      "Warning: 5 of 16000 (0.0%) transitions ended with a divergence.\n",
      "See https://mc-stan.org/misc/warnings for details.\n",
      "\n",
      "\n",
      "Warning: 1 of 16000 (0.0%) transitions hit the maximum treedepth limit of 11.\n",
      "See https://mc-stan.org/misc/warnings for details.\n",
      "\n",
      "\n",
      "Warning: 4 of 4 chains had an E-BFMI less than 0.2.\n",
      "See https://mc-stan.org/misc/warnings for details.\n",
      "\n",
      "\n",
      "Computing WAIC\n",
      "\n",
      "Warning message in map2stan(alist(Eggs_fledged ~ dzipois(p, lambda), logit(p) <- ap, :\n",
      "“There were 5 divergent iterations during sampling.\n",
      "Check the chains (trace plots, n_eff, Rhat) carefully to ensure they are valid.”\n"
     ]
    }
   ],
   "source": [
    "eggsFMod <- map2stan(alist(\n",
    "      Eggs_fledged ~ dzipois(p, lambda),\n",
    "      logit(p) <- ap,\n",
    "      log(lambda) <- a + a_fem[female_id] + a_year[year_id] + a_group[group_id] +\n",
    "            Parasite*bP + Min_age_Z*bA + Group_size_Z*bGS + Mean_eggsize_Z*bES +\n",
    "            Parasite*Min_age_Z*bPA,\n",
    "      Group_size_Z ~ dnorm(0, 3),\n",
    "      Mean_eggsize_Z ~ dnorm(0, 3),\n",
    "      a_fem[female_id] ~ dnorm(0, sigma1),\n",
    "      a_year[year_id] ~ dnorm(0, sigma2),\n",
    "      a_group[group_id] ~ dnorm(0, sigma3),\n",
    "      c(sigma1, sigma2, sigma3) ~ dcauchy(0, 1),\n",
    "      c(ap, a) ~ dnorm(0, 3),\n",
    "      c(bP, bA, bGS, bES, bPA) ~ dnorm(0, 2)),\n",
    "      data = fro,\n",
    "      iter = 5e3, warmup = 1e3, chains = 4, cores = 4)"
   ]
  },
  {
   "cell_type": "code",
   "execution_count": 9,
   "id": "ec279fc5-3da0-4cc2-b012-a2746b143d5b",
   "metadata": {},
   "outputs": [
    {
     "name": "stderr",
     "output_type": "stream",
     "text": [
      "2850 vector or matrix parameters hidden. Use depth=2 to show them.\n",
      "\n"
     ]
    },
    {
     "data": {
      "text/html": [
       "<table class=\"dataframe\">\n",
       "<caption>A precis: 10 × 6</caption>\n",
       "<thead>\n",
       "\t<tr><th></th><th scope=col>mean</th><th scope=col>sd</th><th scope=col>2.5%</th><th scope=col>97.5%</th><th scope=col>n_eff</th><th scope=col>Rhat4</th></tr>\n",
       "\t<tr><th></th><th scope=col>&lt;dbl&gt;</th><th scope=col>&lt;dbl&gt;</th><th scope=col>&lt;dbl&gt;</th><th scope=col>&lt;dbl&gt;</th><th scope=col>&lt;dbl&gt;</th><th scope=col>&lt;dbl&gt;</th></tr>\n",
       "</thead>\n",
       "<tbody>\n",
       "\t<tr><th scope=row>sigma1</th><td> 0.07740936</td><td>0.05648256</td><td> 0.01134979</td><td> 0.21632018</td><td>   45.39056</td><td>1.1121629</td></tr>\n",
       "\t<tr><th scope=row>sigma2</th><td> 0.44160636</td><td>0.18257574</td><td> 0.11614348</td><td> 0.84625052</td><td> 4160.01619</td><td>1.0014912</td></tr>\n",
       "\t<tr><th scope=row>sigma3</th><td> 1.26888031</td><td>0.22524395</td><td> 0.86277550</td><td> 1.74329925</td><td> 2356.65749</td><td>1.0009353</td></tr>\n",
       "\t<tr><th scope=row>ap</th><td>-0.52389935</td><td>0.20953148</td><td>-0.95043575</td><td>-0.13159942</td><td> 6502.85782</td><td>1.0003385</td></tr>\n",
       "\t<tr><th scope=row>a</th><td>-0.51110886</td><td>0.29345201</td><td>-1.11201800</td><td> 0.03694034</td><td> 2854.68035</td><td>1.0006996</td></tr>\n",
       "\t<tr><th scope=row>bP</th><td>-0.45847350</td><td>0.39231948</td><td>-1.24867350</td><td> 0.29104642</td><td>14283.44519</td><td>1.0000996</td></tr>\n",
       "\t<tr><th scope=row>bA</th><td> 0.02182233</td><td>0.07994770</td><td>-0.13808355</td><td> 0.17577015</td><td>11699.04584</td><td>1.0002129</td></tr>\n",
       "\t<tr><th scope=row>bGS</th><td> 0.04380368</td><td>0.07427425</td><td>-0.10219922</td><td> 0.19115797</td><td>11657.52523</td><td>0.9999074</td></tr>\n",
       "\t<tr><th scope=row>bES</th><td> 0.02157585</td><td>0.04285351</td><td>-0.06243308</td><td> 0.10679015</td><td>10043.40507</td><td>1.0001750</td></tr>\n",
       "\t<tr><th scope=row>bPA</th><td> 0.09509631</td><td>0.32711004</td><td>-0.56230967</td><td> 0.72727665</td><td>20730.54076</td><td>0.9998151</td></tr>\n",
       "</tbody>\n",
       "</table>\n"
      ],
      "text/latex": [
       "A precis: 10 × 6\n",
       "\\begin{tabular}{r|llllll}\n",
       "  & mean & sd & 2.5\\% & 97.5\\% & n\\_eff & Rhat4\\\\\n",
       "  & <dbl> & <dbl> & <dbl> & <dbl> & <dbl> & <dbl>\\\\\n",
       "\\hline\n",
       "\tsigma1 &  0.07740936 & 0.05648256 &  0.01134979 &  0.21632018 &    45.39056 & 1.1121629\\\\\n",
       "\tsigma2 &  0.44160636 & 0.18257574 &  0.11614348 &  0.84625052 &  4160.01619 & 1.0014912\\\\\n",
       "\tsigma3 &  1.26888031 & 0.22524395 &  0.86277550 &  1.74329925 &  2356.65749 & 1.0009353\\\\\n",
       "\tap & -0.52389935 & 0.20953148 & -0.95043575 & -0.13159942 &  6502.85782 & 1.0003385\\\\\n",
       "\ta & -0.51110886 & 0.29345201 & -1.11201800 &  0.03694034 &  2854.68035 & 1.0006996\\\\\n",
       "\tbP & -0.45847350 & 0.39231948 & -1.24867350 &  0.29104642 & 14283.44519 & 1.0000996\\\\\n",
       "\tbA &  0.02182233 & 0.07994770 & -0.13808355 &  0.17577015 & 11699.04584 & 1.0002129\\\\\n",
       "\tbGS &  0.04380368 & 0.07427425 & -0.10219922 &  0.19115797 & 11657.52523 & 0.9999074\\\\\n",
       "\tbES &  0.02157585 & 0.04285351 & -0.06243308 &  0.10679015 & 10043.40507 & 1.0001750\\\\\n",
       "\tbPA &  0.09509631 & 0.32711004 & -0.56230967 &  0.72727665 & 20730.54076 & 0.9998151\\\\\n",
       "\\end{tabular}\n"
      ],
      "text/markdown": [
       "\n",
       "A precis: 10 × 6\n",
       "\n",
       "| <!--/--> | mean &lt;dbl&gt; | sd &lt;dbl&gt; | 2.5% &lt;dbl&gt; | 97.5% &lt;dbl&gt; | n_eff &lt;dbl&gt; | Rhat4 &lt;dbl&gt; |\n",
       "|---|---|---|---|---|---|---|\n",
       "| sigma1 |  0.07740936 | 0.05648256 |  0.01134979 |  0.21632018 |    45.39056 | 1.1121629 |\n",
       "| sigma2 |  0.44160636 | 0.18257574 |  0.11614348 |  0.84625052 |  4160.01619 | 1.0014912 |\n",
       "| sigma3 |  1.26888031 | 0.22524395 |  0.86277550 |  1.74329925 |  2356.65749 | 1.0009353 |\n",
       "| ap | -0.52389935 | 0.20953148 | -0.95043575 | -0.13159942 |  6502.85782 | 1.0003385 |\n",
       "| a | -0.51110886 | 0.29345201 | -1.11201800 |  0.03694034 |  2854.68035 | 1.0006996 |\n",
       "| bP | -0.45847350 | 0.39231948 | -1.24867350 |  0.29104642 | 14283.44519 | 1.0000996 |\n",
       "| bA |  0.02182233 | 0.07994770 | -0.13808355 |  0.17577015 | 11699.04584 | 1.0002129 |\n",
       "| bGS |  0.04380368 | 0.07427425 | -0.10219922 |  0.19115797 | 11657.52523 | 0.9999074 |\n",
       "| bES |  0.02157585 | 0.04285351 | -0.06243308 |  0.10679015 | 10043.40507 | 1.0001750 |\n",
       "| bPA |  0.09509631 | 0.32711004 | -0.56230967 |  0.72727665 | 20730.54076 | 0.9998151 |\n",
       "\n"
      ],
      "text/plain": [
       "       mean        sd         2.5%        97.5%       n_eff       Rhat4    \n",
       "sigma1  0.07740936 0.05648256  0.01134979  0.21632018    45.39056 1.1121629\n",
       "sigma2  0.44160636 0.18257574  0.11614348  0.84625052  4160.01619 1.0014912\n",
       "sigma3  1.26888031 0.22524395  0.86277550  1.74329925  2356.65749 1.0009353\n",
       "ap     -0.52389935 0.20953148 -0.95043575 -0.13159942  6502.85782 1.0003385\n",
       "a      -0.51110886 0.29345201 -1.11201800  0.03694034  2854.68035 1.0006996\n",
       "bP     -0.45847350 0.39231948 -1.24867350  0.29104642 14283.44519 1.0000996\n",
       "bA      0.02182233 0.07994770 -0.13808355  0.17577015 11699.04584 1.0002129\n",
       "bGS     0.04380368 0.07427425 -0.10219922  0.19115797 11657.52523 0.9999074\n",
       "bES     0.02157585 0.04285351 -0.06243308  0.10679015 10043.40507 1.0001750\n",
       "bPA     0.09509631 0.32711004 -0.56230967  0.72727665 20730.54076 0.9998151"
      ]
     },
     "metadata": {},
     "output_type": "display_data"
    }
   ],
   "source": [
    "# Check posterior dists\n",
    "# a + a_fem[female_id] + a_year[year_id] + a_group[group_id] +\n",
    "#             Parasite*bP + Min_age_Z*bA + Group_size_Z*bGS + Mean_eggsize_Z*bES +\n",
    "#             Parasite*Min_age_Z*bPA,\n",
    "precis(eggsFMod, prob = .95) # use depth = 2 for varying intercepts"
   ]
  },
  {
   "cell_type": "code",
   "execution_count": 24,
   "id": "027923d5-459d-4a32-85b2-eb78c8b5bf46",
   "metadata": {},
   "outputs": [],
   "source": [
    "# Sample posterior\n",
    "post <- extract.samples(eggsFMod, n = 1000)"
   ]
  },
  {
   "cell_type": "code",
   "execution_count": 25,
   "id": "ea4bba5c-c17d-423d-bd88-7495d7e9b446",
   "metadata": {},
   "outputs": [
    {
     "data": {
      "text/html": [
       "1000"
      ],
      "text/latex": [
       "1000"
      ],
      "text/markdown": [
       "1000"
      ],
      "text/plain": [
       "[1] 1000"
      ]
     },
     "metadata": {},
     "output_type": "display_data"
    }
   ],
   "source": [
    "dim(post$a)"
   ]
  },
  {
   "cell_type": "code",
   "execution_count": 26,
   "id": "c0ccbed3-00c8-43e4-808e-bf9bdc676047",
   "metadata": {},
   "outputs": [
    {
     "data": {
      "image/png": "[encoded data removed]",
      "text/plain": [
       "Plot with title “”"
      ]
     },
     "metadata": {
      "image/png": {
       "height": 420,
       "width": 420
      }
     },
     "output_type": "display_data"
    }
   ],
   "source": [
    "# PI of P(no clutch at all)\n",
    "# This shows the posterior probability distribution of p , the parameter that goes into the binomial component of the model.\n",
    "# It spans the interval between 0.20 and 0.50. \n",
    "# Take this as the likelihood of producing a zero instead of following a Poisson distribution in any single Bernoulli trial.\n",
    "\n",
    "dens(logistic(post$ap), show.HPDI = T, xlab = \"ZIP Bernoulli(p)\")"
   ]
  },
  {
   "cell_type": "code",
   "execution_count": 22,
   "id": "a259c46d-12c4-4a43-a186-1cd3f7774898",
   "metadata": {},
   "outputs": [
    {
     "data": {
      "text/plain": [
       "simFledgeNoPar\n",
       "  0   1   2   3   4   5 \n",
       "870 516 172  36   5   1 "
      ]
     },
     "metadata": {},
     "output_type": "display_data"
    },
    {
     "data": {
      "text/plain": [
       "simFledgePar\n",
       "   0    1    2    3    4    5 \n",
       "1041  423  109   22    3    2 "
      ]
     },
     "metadata": {},
     "output_type": "display_data"
    }
   ],
   "source": [
    "# Run simulations w/ averages of all predictors, except parasite 0 / 1\n",
    "lambdaNoP <- exp(post$a + 0*post$bP + 0*post$bA +\n",
    "                       0*post$bGS + 0*post$bES + 0*0*post$bPA)\n",
    "simFledgeNoPar <- rpois(n = length(lambdaNoP), lambda = lambdaNoP)\n",
    "\n",
    "lambdaP <- exp(post$a + 1*post$bP + 0*post$bA +\n",
    "                     0*post$bGS + 0*post$bES + 1*0*post$bPA)\n",
    "simFledgePar <- rpois(n = length(lambdaP), lambda = lambdaP)\n",
    "table(simFledgeNoPar)\n",
    "table(simFledgePar)\n"
   ]
  },
  {
   "cell_type": "code",
   "execution_count": 23,
   "id": "ca14df90-3de2-4e27-8034-7b80045bd789",
   "metadata": {},
   "outputs": [
    {
     "data": {
      "image/png": "[encoded data removed]",
      "text/plain": [
       "plot without title"
      ]
     },
     "metadata": {
      "image/png": {
       "height": 420,
       "width": 420
      }
     },
     "output_type": "display_data"
    }
   ],
   "source": [
    "# Simulate with varying age\n",
    "rangeA <- seq(-3, 3, length.out = 100)\n",
    "# No parasite\n",
    "predictions <- sapply(rangeA, function(x){\n",
    "      exp(post$a + 0*post$bP + x*post$bA + 0*post$bGS +\n",
    "                0*post$bES + 0*x*post$bPA)\n",
    "})\n",
    "hdpiPois <- apply(predictions, 2, HPDI, prob = .95)\n",
    "meanPois <- colMeans(predictions)\n",
    "plot(rangeA, meanPois, type = \"l\", ylim = c(0, 3), yaxp = c(0, 3, 3),\n",
    "     xlab = \"Min Age (standardized)\", ylab = expression(lambda))\n",
    "shade(hdpiPois, rangeA)\n",
    "# Parasite\n",
    "predictionsP <- sapply(rangeA, function(x){\n",
    "      exp(post$a + 1*post$bP + x*post$bA + 0*post$bGS +\n",
    "                0*post$bES + x*post$bPA)\n",
    "})\n",
    "hdpiPoisP <- apply(predictionsP, 2, HPDI, prob = .95)\n",
    "meanPoisP <- colMeans(predictionsP)\n",
    "lines(rangeA, meanPoisP, lty = 2, col = \"red\")\n",
    "shade(hdpiPoisP, rangeA, col = rgb(1,0,0,.25))"
   ]
  },
  {
   "cell_type": "code",
   "execution_count": null,
   "id": "601dda41-3b46-4cc5-b1a7-c93d6aba9e32",
   "metadata": {},
   "outputs": [],
   "source": []
  }
 ],
 "metadata": {
  "kernelspec": {
   "display_name": "R",
   "language": "R",
   "name": "ir"
  },
  "language_info": {
   "codemirror_mode": "r",
   "file_extension": ".r",
   "mimetype": "text/x-r-source",
   "name": "R",
   "pygments_lexer": "r",
   "version": "4.1.2"
  }
 },
 "nbformat": 4,
 "nbformat_minor": 5
}
